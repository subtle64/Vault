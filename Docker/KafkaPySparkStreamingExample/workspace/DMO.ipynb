{
 "cells": [
  {
   "cell_type": "markdown",
   "id": "a3063789-6973-49b1-91fc-309a20c4db33",
   "metadata": {},
   "source": [
    "# 0. Setting up a Spark Session"
   ]
  },
  {
   "cell_type": "code",
   "execution_count": 1,
   "id": "b8290c26-3476-4993-8d56-9e46a5e9d5f3",
   "metadata": {},
   "outputs": [],
   "source": [
    "from pyspark.sql import SparkSession\n",
    "import os\n",
    "os.environ['PYSPARK_SUBMIT_ARGS'] = '--packages org.apache.spark:spark-streaming-kafka-0-10_2.12:3.5.0,org.apache.spark:spark-sql-kafka-0-10_2.12:3.5.0 pyspark-shell'\n",
    "KAFKA_BOOTSTRAP_SERVERS = \"kafka:9092\"\n",
    "KAFKA_TOPIC = \"transaction_data\"\n",
    "spark = SparkSession.builder\\\n",
    "                    .appName(\"transaction_consumer\")\\\n",
    "                    .master(\"spark://spark:7077\")\\\n",
    "                    .getOrCreate()\n",
    "spark.sparkContext.setLogLevel(\"WARN\") "
   ]
  },
  {
   "cell_type": "markdown",
   "id": "4a944600-9061-426d-98ec-7bd9f0bbf876",
   "metadata": {},
   "source": [
    "# 1. Reading Kafka Stream"
   ]
  },
  {
   "cell_type": "code",
   "execution_count": 2,
   "id": "ddae736a-2df2-4fbc-bbb4-38bb676f6aa9",
   "metadata": {},
   "outputs": [],
   "source": [
    "df = spark.readStream.format(\"kafka\") \\\n",
    "    .option(\"kafka.bootstrap.servers\", KAFKA_BOOTSTRAP_SERVERS) \\\n",
    "    .option(\"subscribe\", KAFKA_TOPIC) \\\n",
    "    .option(\"startingOffsets\", \"earliest\") \\\n",
    "    .load()\n",
    "\n",
    "query = df \\\n",
    "    .withWatermark(\"timestamp\", \"2 seconds\") \\\n",
    "    .writeStream \\\n",
    "    .outputMode(\"append\") \\\n",
    "    .format(\"memory\") \\\n",
    "    .queryName(\"transaction_data\") \\\n",
    "    .start()"
   ]
  },
  {
   "cell_type": "code",
   "execution_count": 3,
   "id": "3ada8d18-20c3-44b0-92b3-be4a25bf0dbc",
   "metadata": {
    "scrolled": true
   },
   "outputs": [
    {
     "data": {
      "text/plain": [
       "{'message': 'Waiting for data to arrive',\n",
       " 'isDataAvailable': False,\n",
       " 'isTriggerActive': False}"
      ]
     },
     "metadata": {},
     "output_type": "display_data"
    },
    {
     "name": "stdout",
     "output_type": "stream",
     "text": [
      "Transaction data [30/30]:\n",
      "+--------------------+------+-----------------+\n",
      "|           timestamp|   key|            value|\n",
      "+--------------------+------+-----------------+\n",
      "|2024-01-07 08:23:...|Amount|              2.0|\n",
      "|2024-01-07 08:23:...|   V12| -2.1498630541179|\n",
      "|2024-01-07 08:23:...| Class|              0.0|\n",
      "|2024-01-07 08:23:...|    V1|0.503301988400519|\n",
      "|2024-01-07 08:23:...|   V10|-1.97461696232863|\n",
      "+--------------------+------+-----------------+\n",
      "only showing top 5 rows\n",
      "\n"
     ]
    },
    {
     "data": {
      "text/plain": [
       "None"
      ]
     },
     "metadata": {},
     "output_type": "display_data"
    },
    {
     "name": "stdout",
     "output_type": "stream",
     "text": [
      "Probabilities: [-0.2826651861428179,0.2826651861428179] Result: 1.0\n",
      "[!] Fraudulent transaction detected!\n"
     ]
    }
   ],
   "source": [
    "from IPython.display import display, clear_output\n",
    "from time import sleep \n",
    "from pyspark.ml.pipeline import PipelineModel\n",
    "from pyspark.sql.functions import first, col\n",
    "import pyspark.sql.utils\n",
    "\n",
    "classifier_model = PipelineModel.load(\"/src/gbt_model.model\")\n",
    "while True:\n",
    "    clear_output(wait=True)\n",
    "    display(query.status)\n",
    "    input_data = spark.sql(\"SELECT timestamp, CAST(key AS STRING), CAST(value AS STRING) FROM transaction_data ORDER BY timestamp DESC LIMIT 30\")\n",
    "    length = len(input_data.collect())\n",
    "    print(f\"Transaction data [{length}/30]:\")\n",
    "    display(input_data.show(5))\n",
    "\n",
    "    if (length < 30):\n",
    "        print(\"[!] Incomplete transaction data stream!\")\n",
    "    else:\n",
    "        try:\n",
    "            input_data = input_data.groupby().pivot(\"key\").agg(first(col(\"value\")))\n",
    "            doubles = ['V1', 'V2', 'V3', 'V4', 'V5', 'V6', 'V7', 'V8', 'V9', 'V10', 'V11', 'V12',\\\n",
    "                   'V13', 'V14', 'V15', 'V16', 'V17', 'V18', 'V19', 'V20', 'V21', 'V22', 'V23',\\\n",
    "                   'V24', 'V25', 'V26', 'V27', 'V28', 'Amount']\n",
    "\n",
    "            for i in doubles:\n",
    "                input_data = input_data.withColumn(i, col(i).cast('double'))\n",
    "        \n",
    "            preds = classifier_model.transform(input_data).collect()[0].asDict()\n",
    "            print(f\"Probabilities: {preds['rawPrediction']} Result: {preds['prediction']}\")\n",
    "            if (preds['prediction'] == 0):\n",
    "                print(\"[i] Transaction OK\")\n",
    "            else:\n",
    "                print(\"[!] Fraudulent transaction detected!\")\n",
    "                break\n",
    "        except pyspark.sql.utils.AnalysisException:\n",
    "            print(\"[i] Fragmented data, skipping...\")\n",
    "        \n",
    "    sleep(3)"
   ]
  }
 ],
 "metadata": {
  "kernelspec": {
   "display_name": "Python 3 (ipykernel)",
   "language": "python",
   "name": "python3"
  },
  "language_info": {
   "codemirror_mode": {
    "name": "ipython",
    "version": 3
   },
   "file_extension": ".py",
   "mimetype": "text/x-python",
   "name": "python",
   "nbconvert_exporter": "python",
   "pygments_lexer": "ipython3",
   "version": "3.11.6"
  }
 },
 "nbformat": 4,
 "nbformat_minor": 5
}
