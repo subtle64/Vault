{
 "cells": [
  {
   "cell_type": "markdown",
   "metadata": {
    "id": "bds-_4jb8FyO"
   },
   "source": [
    "#0. Prerequisites"
   ]
  },
  {
   "cell_type": "code",
   "execution_count": 253,
   "metadata": {
    "id": "lodiHdrp4JXL"
   },
   "outputs": [],
   "source": [
    "#Library Imports\n",
    "import numpy as np\n",
    "import pandas as pd\n",
    "import matplotlib.pyplot as plt\n",
    "import seaborn as sns\n",
    "import tensorflow as tf\n",
    "\n",
    "from pathlib import Path"
   ]
  },
  {
   "cell_type": "code",
   "execution_count": 254,
   "metadata": {
    "colab": {
     "base_uri": "https://localhost:8080/",
     "height": 34
    },
    "id": "DZWgRgky-JzI",
    "outputId": "34dc71cb-5db4-42b0-aa81-885ae0831bb8"
   },
   "outputs": [
    {
     "data": {
      "text/plain": [
       "<Figure size 640x480 with 0 Axes>"
      ]
     },
     "metadata": {},
     "output_type": "display_data"
    }
   ],
   "source": [
    "#Setup\n",
    "sns.set_style(\"whitegrid\")\n",
    "sns.despine()"
   ]
  },
  {
   "cell_type": "code",
   "execution_count": 255,
   "metadata": {
    "id": "rdxQE-FMrdTF"
   },
   "outputs": [],
   "source": [
    "#Superglobals\n",
    "WINDOW_SIZE = 31"
   ]
  },
  {
   "cell_type": "code",
   "execution_count": 256,
   "metadata": {
    "colab": {
     "base_uri": "https://localhost:8080/",
     "height": 206
    },
    "id": "lh5A33-68sBo",
    "outputId": "594dbfba-f7e7-4457-9972-25b16983d510"
   },
   "outputs": [
    {
     "data": {
      "text/html": [
       "\n",
       "  <div id=\"df-9cdb3f52-7de8-4f92-8be5-e70b35083434\" class=\"colab-df-container\">\n",
       "    <div>\n",
       "<style scoped>\n",
       "    .dataframe tbody tr th:only-of-type {\n",
       "        vertical-align: middle;\n",
       "    }\n",
       "\n",
       "    .dataframe tbody tr th {\n",
       "        vertical-align: top;\n",
       "    }\n",
       "\n",
       "    .dataframe thead th {\n",
       "        text-align: right;\n",
       "    }\n",
       "</style>\n",
       "<table border=\"1\" class=\"dataframe\">\n",
       "  <thead>\n",
       "    <tr style=\"text-align: right;\">\n",
       "      <th></th>\n",
       "      <th>Date</th>\n",
       "      <th>Open</th>\n",
       "      <th>High</th>\n",
       "      <th>Low</th>\n",
       "      <th>Close</th>\n",
       "      <th>Adj Close</th>\n",
       "      <th>Volume</th>\n",
       "    </tr>\n",
       "  </thead>\n",
       "  <tbody>\n",
       "    <tr>\n",
       "      <th>0</th>\n",
       "      <td>2010-06-29</td>\n",
       "      <td>3.800</td>\n",
       "      <td>5.000</td>\n",
       "      <td>3.508</td>\n",
       "      <td>4.778</td>\n",
       "      <td>4.778</td>\n",
       "      <td>93831500</td>\n",
       "    </tr>\n",
       "    <tr>\n",
       "      <th>1</th>\n",
       "      <td>2010-06-30</td>\n",
       "      <td>5.158</td>\n",
       "      <td>6.084</td>\n",
       "      <td>4.660</td>\n",
       "      <td>4.766</td>\n",
       "      <td>4.766</td>\n",
       "      <td>85935500</td>\n",
       "    </tr>\n",
       "    <tr>\n",
       "      <th>2</th>\n",
       "      <td>2010-07-01</td>\n",
       "      <td>5.000</td>\n",
       "      <td>5.184</td>\n",
       "      <td>4.054</td>\n",
       "      <td>4.392</td>\n",
       "      <td>4.392</td>\n",
       "      <td>41094000</td>\n",
       "    </tr>\n",
       "    <tr>\n",
       "      <th>3</th>\n",
       "      <td>2010-07-02</td>\n",
       "      <td>4.600</td>\n",
       "      <td>4.620</td>\n",
       "      <td>3.742</td>\n",
       "      <td>3.840</td>\n",
       "      <td>3.840</td>\n",
       "      <td>25699000</td>\n",
       "    </tr>\n",
       "    <tr>\n",
       "      <th>4</th>\n",
       "      <td>2010-07-06</td>\n",
       "      <td>4.000</td>\n",
       "      <td>4.000</td>\n",
       "      <td>3.166</td>\n",
       "      <td>3.222</td>\n",
       "      <td>3.222</td>\n",
       "      <td>34334500</td>\n",
       "    </tr>\n",
       "  </tbody>\n",
       "</table>\n",
       "</div>\n",
       "    <div class=\"colab-df-buttons\">\n",
       "\n",
       "  <div class=\"colab-df-container\">\n",
       "    <button class=\"colab-df-convert\" onclick=\"convertToInteractive('df-9cdb3f52-7de8-4f92-8be5-e70b35083434')\"\n",
       "            title=\"Convert this dataframe to an interactive table.\"\n",
       "            style=\"display:none;\">\n",
       "\n",
       "  <svg xmlns=\"http://www.w3.org/2000/svg\" height=\"24px\" viewBox=\"0 -960 960 960\">\n",
       "    <path d=\"M120-120v-720h720v720H120Zm60-500h600v-160H180v160Zm220 220h160v-160H400v160Zm0 220h160v-160H400v160ZM180-400h160v-160H180v160Zm440 0h160v-160H620v160ZM180-180h160v-160H180v160Zm440 0h160v-160H620v160Z\"/>\n",
       "  </svg>\n",
       "    </button>\n",
       "\n",
       "  <style>\n",
       "    .colab-df-container {\n",
       "      display:flex;\n",
       "      gap: 12px;\n",
       "    }\n",
       "\n",
       "    .colab-df-convert {\n",
       "      background-color: #E8F0FE;\n",
       "      border: none;\n",
       "      border-radius: 50%;\n",
       "      cursor: pointer;\n",
       "      display: none;\n",
       "      fill: #1967D2;\n",
       "      height: 32px;\n",
       "      padding: 0 0 0 0;\n",
       "      width: 32px;\n",
       "    }\n",
       "\n",
       "    .colab-df-convert:hover {\n",
       "      background-color: #E2EBFA;\n",
       "      box-shadow: 0px 1px 2px rgba(60, 64, 67, 0.3), 0px 1px 3px 1px rgba(60, 64, 67, 0.15);\n",
       "      fill: #174EA6;\n",
       "    }\n",
       "\n",
       "    .colab-df-buttons div {\n",
       "      margin-bottom: 4px;\n",
       "    }\n",
       "\n",
       "    [theme=dark] .colab-df-convert {\n",
       "      background-color: #3B4455;\n",
       "      fill: #D2E3FC;\n",
       "    }\n",
       "\n",
       "    [theme=dark] .colab-df-convert:hover {\n",
       "      background-color: #434B5C;\n",
       "      box-shadow: 0px 1px 3px 1px rgba(0, 0, 0, 0.15);\n",
       "      filter: drop-shadow(0px 1px 2px rgba(0, 0, 0, 0.3));\n",
       "      fill: #FFFFFF;\n",
       "    }\n",
       "  </style>\n",
       "\n",
       "    <script>\n",
       "      const buttonEl =\n",
       "        document.querySelector('#df-9cdb3f52-7de8-4f92-8be5-e70b35083434 button.colab-df-convert');\n",
       "      buttonEl.style.display =\n",
       "        google.colab.kernel.accessAllowed ? 'block' : 'none';\n",
       "\n",
       "      async function convertToInteractive(key) {\n",
       "        const element = document.querySelector('#df-9cdb3f52-7de8-4f92-8be5-e70b35083434');\n",
       "        const dataTable =\n",
       "          await google.colab.kernel.invokeFunction('convertToInteractive',\n",
       "                                                    [key], {});\n",
       "        if (!dataTable) return;\n",
       "\n",
       "        const docLinkHtml = 'Like what you see? Visit the ' +\n",
       "          '<a target=\"_blank\" href=https://colab.research.google.com/notebooks/data_table.ipynb>data table notebook</a>'\n",
       "          + ' to learn more about interactive tables.';\n",
       "        element.innerHTML = '';\n",
       "        dataTable['output_type'] = 'display_data';\n",
       "        await google.colab.output.renderOutput(dataTable, element);\n",
       "        const docLink = document.createElement('div');\n",
       "        docLink.innerHTML = docLinkHtml;\n",
       "        element.appendChild(docLink);\n",
       "      }\n",
       "    </script>\n",
       "  </div>\n",
       "\n",
       "\n",
       "<div id=\"df-c47fea88-7735-46a8-8895-37374cb14e58\">\n",
       "  <button class=\"colab-df-quickchart\" onclick=\"quickchart('df-c47fea88-7735-46a8-8895-37374cb14e58')\"\n",
       "            title=\"Suggest charts.\"\n",
       "            style=\"display:none;\">\n",
       "\n",
       "<svg xmlns=\"http://www.w3.org/2000/svg\" height=\"24px\"viewBox=\"0 0 24 24\"\n",
       "     width=\"24px\">\n",
       "    <g>\n",
       "        <path d=\"M19 3H5c-1.1 0-2 .9-2 2v14c0 1.1.9 2 2 2h14c1.1 0 2-.9 2-2V5c0-1.1-.9-2-2-2zM9 17H7v-7h2v7zm4 0h-2V7h2v10zm4 0h-2v-4h2v4z\"/>\n",
       "    </g>\n",
       "</svg>\n",
       "  </button>\n",
       "\n",
       "<style>\n",
       "  .colab-df-quickchart {\n",
       "      --bg-color: #E8F0FE;\n",
       "      --fill-color: #1967D2;\n",
       "      --hover-bg-color: #E2EBFA;\n",
       "      --hover-fill-color: #174EA6;\n",
       "      --disabled-fill-color: #AAA;\n",
       "      --disabled-bg-color: #DDD;\n",
       "  }\n",
       "\n",
       "  [theme=dark] .colab-df-quickchart {\n",
       "      --bg-color: #3B4455;\n",
       "      --fill-color: #D2E3FC;\n",
       "      --hover-bg-color: #434B5C;\n",
       "      --hover-fill-color: #FFFFFF;\n",
       "      --disabled-bg-color: #3B4455;\n",
       "      --disabled-fill-color: #666;\n",
       "  }\n",
       "\n",
       "  .colab-df-quickchart {\n",
       "    background-color: var(--bg-color);\n",
       "    border: none;\n",
       "    border-radius: 50%;\n",
       "    cursor: pointer;\n",
       "    display: none;\n",
       "    fill: var(--fill-color);\n",
       "    height: 32px;\n",
       "    padding: 0;\n",
       "    width: 32px;\n",
       "  }\n",
       "\n",
       "  .colab-df-quickchart:hover {\n",
       "    background-color: var(--hover-bg-color);\n",
       "    box-shadow: 0 1px 2px rgba(60, 64, 67, 0.3), 0 1px 3px 1px rgba(60, 64, 67, 0.15);\n",
       "    fill: var(--button-hover-fill-color);\n",
       "  }\n",
       "\n",
       "  .colab-df-quickchart-complete:disabled,\n",
       "  .colab-df-quickchart-complete:disabled:hover {\n",
       "    background-color: var(--disabled-bg-color);\n",
       "    fill: var(--disabled-fill-color);\n",
       "    box-shadow: none;\n",
       "  }\n",
       "\n",
       "  .colab-df-spinner {\n",
       "    border: 2px solid var(--fill-color);\n",
       "    border-color: transparent;\n",
       "    border-bottom-color: var(--fill-color);\n",
       "    animation:\n",
       "      spin 1s steps(1) infinite;\n",
       "  }\n",
       "\n",
       "  @keyframes spin {\n",
       "    0% {\n",
       "      border-color: transparent;\n",
       "      border-bottom-color: var(--fill-color);\n",
       "      border-left-color: var(--fill-color);\n",
       "    }\n",
       "    20% {\n",
       "      border-color: transparent;\n",
       "      border-left-color: var(--fill-color);\n",
       "      border-top-color: var(--fill-color);\n",
       "    }\n",
       "    30% {\n",
       "      border-color: transparent;\n",
       "      border-left-color: var(--fill-color);\n",
       "      border-top-color: var(--fill-color);\n",
       "      border-right-color: var(--fill-color);\n",
       "    }\n",
       "    40% {\n",
       "      border-color: transparent;\n",
       "      border-right-color: var(--fill-color);\n",
       "      border-top-color: var(--fill-color);\n",
       "    }\n",
       "    60% {\n",
       "      border-color: transparent;\n",
       "      border-right-color: var(--fill-color);\n",
       "    }\n",
       "    80% {\n",
       "      border-color: transparent;\n",
       "      border-right-color: var(--fill-color);\n",
       "      border-bottom-color: var(--fill-color);\n",
       "    }\n",
       "    90% {\n",
       "      border-color: transparent;\n",
       "      border-bottom-color: var(--fill-color);\n",
       "    }\n",
       "  }\n",
       "</style>\n",
       "\n",
       "  <script>\n",
       "    async function quickchart(key) {\n",
       "      const quickchartButtonEl =\n",
       "        document.querySelector('#' + key + ' button');\n",
       "      quickchartButtonEl.disabled = true;  // To prevent multiple clicks.\n",
       "      quickchartButtonEl.classList.add('colab-df-spinner');\n",
       "      try {\n",
       "        const charts = await google.colab.kernel.invokeFunction(\n",
       "            'suggestCharts', [key], {});\n",
       "      } catch (error) {\n",
       "        console.error('Error during call to suggestCharts:', error);\n",
       "      }\n",
       "      quickchartButtonEl.classList.remove('colab-df-spinner');\n",
       "      quickchartButtonEl.classList.add('colab-df-quickchart-complete');\n",
       "    }\n",
       "    (() => {\n",
       "      let quickchartButtonEl =\n",
       "        document.querySelector('#df-c47fea88-7735-46a8-8895-37374cb14e58 button');\n",
       "      quickchartButtonEl.style.display =\n",
       "        google.colab.kernel.accessAllowed ? 'block' : 'none';\n",
       "    })();\n",
       "  </script>\n",
       "</div>\n",
       "    </div>\n",
       "  </div>\n"
      ],
      "text/plain": [
       "         Date   Open   High    Low  Close  Adj Close    Volume\n",
       "0  2010-06-29  3.800  5.000  3.508  4.778      4.778  93831500\n",
       "1  2010-06-30  5.158  6.084  4.660  4.766      4.766  85935500\n",
       "2  2010-07-01  5.000  5.184  4.054  4.392      4.392  41094000\n",
       "3  2010-07-02  4.600  4.620  3.742  3.840      3.840  25699000\n",
       "4  2010-07-06  4.000  4.000  3.166  3.222      3.222  34334500"
      ]
     },
     "execution_count": 256,
     "metadata": {},
     "output_type": "execute_result"
    }
   ],
   "source": [
    "#Loading the data\n",
    "df = pd.read_csv('https://raw.githubusercontent.com/subtle64/Datasets/main/Kaggle/TSLA.csv')\n",
    "df.head()"
   ]
  },
  {
   "cell_type": "markdown",
   "metadata": {
    "id": "nyG8lFMh851W"
   },
   "source": [
    "#1. Data Preprocessing and Exploration"
   ]
  },
  {
   "cell_type": "code",
   "execution_count": 257,
   "metadata": {
    "colab": {
     "base_uri": "https://localhost:8080/"
    },
    "id": "2Lv5rSPs849r",
    "outputId": "c87ad607-eb67-4494-abbc-86624f777078"
   },
   "outputs": [
    {
     "data": {
      "text/plain": [
       "Date         0\n",
       "Open         0\n",
       "High         0\n",
       "Low          0\n",
       "Close        0\n",
       "Adj Close    0\n",
       "Volume       0\n",
       "dtype: int64"
      ]
     },
     "execution_count": 257,
     "metadata": {},
     "output_type": "execute_result"
    }
   ],
   "source": [
    "#Testing for NAs\n",
    "df.isna().sum()"
   ]
  },
  {
   "cell_type": "code",
   "execution_count": 258,
   "metadata": {
    "colab": {
     "base_uri": "https://localhost:8080/"
    },
    "id": "qhLovTes9AYm",
    "outputId": "5c7d4629-f365-4d7c-f337-4f699261b29e"
   },
   "outputs": [
    {
     "data": {
      "text/plain": [
       "0"
      ]
     },
     "execution_count": 258,
     "metadata": {},
     "output_type": "execute_result"
    }
   ],
   "source": [
    "#Testing for Duplications\n",
    "df.duplicated().sum()"
   ]
  },
  {
   "cell_type": "code",
   "execution_count": 259,
   "metadata": {
    "colab": {
     "base_uri": "https://localhost:8080/"
    },
    "id": "2UjLRAXb9mgP",
    "outputId": "236658aa-70df-43ca-cd75-7a3812812bb3"
   },
   "outputs": [
    {
     "name": "stdout",
     "output_type": "stream",
     "text": [
      "<class 'pandas.core.frame.DataFrame'>\n",
      "RangeIndex: 2956 entries, 0 to 2955\n",
      "Data columns (total 7 columns):\n",
      " #   Column     Non-Null Count  Dtype  \n",
      "---  ------     --------------  -----  \n",
      " 0   Date       2956 non-null   object \n",
      " 1   Open       2956 non-null   float64\n",
      " 2   High       2956 non-null   float64\n",
      " 3   Low        2956 non-null   float64\n",
      " 4   Close      2956 non-null   float64\n",
      " 5   Adj Close  2956 non-null   float64\n",
      " 6   Volume     2956 non-null   int64  \n",
      "dtypes: float64(5), int64(1), object(1)\n",
      "memory usage: 161.8+ KB\n"
     ]
    }
   ],
   "source": [
    "df.info()"
   ]
  },
  {
   "cell_type": "code",
   "execution_count": 260,
   "metadata": {
    "id": "Edq6dTwZ9pZq"
   },
   "outputs": [],
   "source": [
    "df.Date = pd.to_datetime(df.Date)"
   ]
  },
  {
   "cell_type": "code",
   "execution_count": 261,
   "metadata": {
    "colab": {
     "base_uri": "https://localhost:8080/",
     "height": 462
    },
    "id": "IcKxVpKuBnKW",
    "outputId": "82f6af0b-8895-47e7-bd59-208d8c8edba0"
   },
   "outputs": [
    {
     "data": {
      "text/plain": [
       "<Axes: >"
      ]
     },
     "execution_count": 261,
     "metadata": {},
     "output_type": "execute_result"
    },
    {
     "data": {
      "image/png": "[encoded data removed]",
      "text/plain": [
       "<Figure size 640x480 with 1 Axes>"
      ]
     },
     "metadata": {},
     "output_type": "display_data"
    }
   ],
   "source": [
    "sns.lineplot(df)"
   ]
  },
  {
   "cell_type": "code",
   "execution_count": 262,
   "metadata": {
    "colab": {
     "base_uri": "https://localhost:8080/",
     "height": 466
    },
    "id": "-b0Avyfl9N6G",
    "outputId": "2ac6c20d-82ef-43b1-e09c-aeceb1bbaa9d"
   },
   "outputs": [
    {
     "data": {
      "text/plain": [
       "<Axes: xlabel='Date', ylabel='value'>"
      ]
     },
     "execution_count": 262,
     "metadata": {},
     "output_type": "execute_result"
    },
    {
     "data": {
      "image/png": "[encoded data removed]",
      "text/plain": [
       "<Figure size 640x480 with 1 Axes>"
      ]
     },
     "metadata": {},
     "output_type": "display_data"
    }
   ],
   "source": [
    "sns.lineplot(x = 'Date', y = 'value', hue = 'variable', data=pd.melt(df.drop(\"Volume\", axis = 1), ['Date']))"
   ]
  },
  {
   "cell_type": "markdown",
   "metadata": {
    "id": "K_HPM561Br-d"
   },
   "source": [
    "Almost all measurements are similar, except Volume, since we are going\n",
    "to predict the stock prices, it's best to use the 'Adj Close' column since it is the final stock price compensating any company actions on that date"
   ]
  },
  {
   "cell_type": "code",
   "execution_count": 263,
   "metadata": {
    "colab": {
     "base_uri": "https://localhost:8080/"
    },
    "id": "NJUtbk8a_X3j",
    "outputId": "e27db357-e74c-49e4-c90a-48f86a0f1aac"
   },
   "outputs": [
    {
     "name": "stdout",
     "output_type": "stream",
     "text": [
      "<class 'pandas.core.frame.DataFrame'>\n",
      "RangeIndex: 2956 entries, 0 to 2955\n",
      "Data columns (total 1 columns):\n",
      " #   Column     Non-Null Count  Dtype  \n",
      "---  ------     --------------  -----  \n",
      " 0   Adj Close  2956 non-null   float64\n",
      "dtypes: float64(1)\n",
      "memory usage: 23.2 KB\n"
     ]
    }
   ],
   "source": [
    "df_used = df[['Adj Close']]\n",
    "df_used.info()"
   ]
  },
  {
   "cell_type": "markdown",
   "metadata": {
    "id": "oOlM2y_gBv-m"
   },
   "source": [
    "#2. RNN Modelling"
   ]
  },
  {
   "cell_type": "code",
   "execution_count": 264,
   "metadata": {
    "colab": {
     "base_uri": "https://localhost:8080/"
    },
    "id": "WpnIOmm8ByRI",
    "outputId": "6fc6d93d-e0a4-4ce9-fecc-e433403227c0"
   },
   "outputs": [
    {
     "name": "stdout",
     "output_type": "stream",
     "text": [
      "Training: 2364, Testing: 623\n"
     ]
    }
   ],
   "source": [
    "#Splitting the Data\n",
    "#80% Train 20% Testing\n",
    "split_index = int(len(df_used) - 0.20*len(df_used))\n",
    "df_train = df_used[:split_index]\n",
    "df_val = df_used[split_index - WINDOW_SIZE:]\n",
    "print(f\"Training: {len(df_train)}, Testing: {len(df_val)}\")"
   ]
  },
  {
   "cell_type": "code",
   "execution_count": 265,
   "metadata": {
    "colab": {
     "base_uri": "https://localhost:8080/",
     "height": 447
    },
    "id": "kcUwBkFHUn9x",
    "outputId": "8d6c8e17-0b73-4418-c1d9-57a542a378ed"
   },
   "outputs": [
    {
     "data": {
      "text/plain": [
       "<matplotlib.legend.Legend at 0x7b526a8ec6a0>"
      ]
     },
     "execution_count": 265,
     "metadata": {},
     "output_type": "execute_result"
    },
    {
     "data": {
      "image/png": "[encoded data removed]",
      "text/plain": [
       "<Figure size 640x480 with 1 Axes>"
      ]
     },
     "metadata": {},
     "output_type": "display_data"
    }
   ],
   "source": [
    "#It would be interesting to see if an RNN could predict such ridiculous changes\n",
    "df_train['Adj Close'].plot(legend = True)\n",
    "df_val['Adj Close'].plot(legend = True)\n",
    "plt.legend(['Training Set', 'Testing Set'])"
   ]
  },
  {
   "cell_type": "code",
   "execution_count": 266,
   "metadata": {
    "id": "zGBCcNuOzdAW"
   },
   "outputs": [],
   "source": [
    "#Scale the data to desensitize the RNN model to insane changes, but predict patterns instead\n",
    "#Obviously using the Standard Scaler on non-normal data is a bad idea\n",
    "from sklearn.preprocessing import MinMaxScaler\n",
    "sc = MinMaxScaler()\n",
    "df_scaled = pd.DataFrame(sc.fit_transform(df_train), columns = ['Adj Close'])"
   ]
  },
  {
   "cell_type": "code",
   "execution_count": 267,
   "metadata": {
    "colab": {
     "base_uri": "https://localhost:8080/"
    },
    "id": "9cNce6Rgzl8H",
    "outputId": "2a5de4ae-4469-4fb9-a969-d11c6ed8370b"
   },
   "outputs": [
    {
     "name": "stdout",
     "output_type": "stream",
     "text": [
      "<class 'pandas.core.frame.DataFrame'>\n",
      "RangeIndex: 2364 entries, 0 to 2363\n",
      "Data columns (total 1 columns):\n",
      " #   Column     Non-Null Count  Dtype  \n",
      "---  ------     --------------  -----  \n",
      " 0   Adj Close  2364 non-null   float64\n",
      "dtypes: float64(1)\n",
      "memory usage: 18.6 KB\n"
     ]
    }
   ],
   "source": [
    "df_scaled.info()"
   ]
  },
  {
   "cell_type": "code",
   "execution_count": 274,
   "metadata": {
    "id": "Z0Ke0RlHFJB6"
   },
   "outputs": [],
   "source": [
    "#Creating a 1-month datset window to train the RNNs\n",
    "def generate_windows(df):\n",
    "  x = []\n",
    "  y = []\n",
    "  for i in range(WINDOW_SIZE, len(df)):\n",
    "    x.append(df.iloc[i - WINDOW_SIZE:i, 0])\n",
    "    y.append(df.iloc[i, 0])\n",
    "  return (np.array(x), np.array(y))"
   ]
  },
  {
   "cell_type": "code",
   "execution_count": 275,
   "metadata": {
    "colab": {
     "base_uri": "https://localhost:8080/"
    },
    "id": "tdecOhsFWkPe",
    "outputId": "b4394769-eae5-4638-863d-39a1a4013d6d"
   },
   "outputs": [
    {
     "name": "stdout",
     "output_type": "stream",
     "text": [
      "(2333, 31) (2333,)\n",
      "[0.00487541 0.00682557 0.00807151 ... 0.89466414 0.90343991 0.91107798]\n"
     ]
    }
   ],
   "source": [
    "x_train, y_train = generate_windows(df_scaled)\n",
    "print(x_train.shape, y_train.shape)\n",
    "print(y_train)"
   ]
  },
  {
   "cell_type": "code",
   "execution_count": 276,
   "metadata": {
    "id": "YnAQU9y8XqeI"
   },
   "outputs": [],
   "source": [
    "from tensorflow import keras\n",
    "from keras import layers\n",
    "\n",
    "#Input Shape\n",
    "INPUT_SHAPE = (WINDOW_SIZE, 1)\n",
    "\n",
    "#Defining the RNN model\n",
    "inputs = keras.Input(INPUT_SHAPE)\n",
    "\n",
    "#First LSTM Block\n",
    "block1 = layers.LSTM(64, return_sequences = True)(inputs)\n",
    "\n",
    "#Second LSTM Block\n",
    "block2 = layers.LSTM(64, return_sequences = True)(block1)\n",
    "\n",
    "#Third LSTM Block\n",
    "block3 = layers.LSTM(128, return_sequences = False)(block2)\n",
    "\n",
    "#Dense Head\n",
    "dense1 = layers.Dense(32)(block3)\n",
    "\n",
    "#Outputs\n",
    "outputs = layers.Dense(1)(dense1)\n",
    "\n",
    "#Model\n",
    "rnn = keras.Model(inputs, outputs)"
   ]
  },
  {
   "cell_type": "code",
   "execution_count": 277,
   "metadata": {
    "id": "aPU-_xKbmLLH"
   },
   "outputs": [],
   "source": [
    "callbacks = [\n",
    "    tf.keras.callbacks.EarlyStopping(\n",
    "        monitor = 'loss',\n",
    "        patience = 25,\n",
    "        verbose = 1,\n",
    "        restore_best_weights = True\n",
    "    )\n",
    "]"
   ]
  },
  {
   "cell_type": "code",
   "execution_count": 278,
   "metadata": {
    "colab": {
     "base_uri": "https://localhost:8080/"
    },
    "id": "OXEEc7nHagbB",
    "outputId": "6f809a0d-c330-4ae2-c7f8-17bfe05b87b1"
   },
   "outputs": [
    {
     "name": "stdout",
     "output_type": "stream",
     "text": [
      "Model: \"model_21\"\n",
      "_________________________________________________________________\n",
      " Layer (type)                Output Shape              Param #   \n",
      "=================================================================\n",
      " input_25 (InputLayer)       [(None, 31, 1)]           0         \n",
      "                                                                 \n",
      " lstm_65 (LSTM)              (None, 31, 64)            16896     \n",
      "                                                                 \n",
      " lstm_66 (LSTM)              (None, 31, 64)            33024     \n",
      "                                                                 \n",
      " lstm_67 (LSTM)              (None, 128)               98816     \n",
      "                                                                 \n",
      " dense_38 (Dense)            (None, 32)                4128      \n",
      "                                                                 \n",
      " dense_39 (Dense)            (None, 1)                 33        \n",
      "                                                                 \n",
      "=================================================================\n",
      "Total params: 152897 (597.25 KB)\n",
      "Trainable params: 152897 (597.25 KB)\n",
      "Non-trainable params: 0 (0.00 Byte)\n",
      "_________________________________________________________________\n"
     ]
    }
   ],
   "source": [
    "rnn.compile(optimizer = 'adam', loss = 'mean_squared_error', metrics = ['mean_absolute_error'])\n",
    "rnn.summary()"
   ]
  },
  {
   "cell_type": "code",
   "execution_count": 279,
   "metadata": {
    "colab": {
     "base_uri": "https://localhost:8080/"
    },
    "id": "XtnAx7Ifa5D2",
    "outputId": "68096fd8-5316-4b81-a43c-bac9523501c1"
   },
   "outputs": [
    {
     "name": "stdout",
     "output_type": "stream",
     "text": [
      "Epoch 1/200\n",
      "146/146 [==============================] - 7s 9ms/step - loss: 0.0074 - mean_absolute_error: 0.0508\n",
      "Epoch 2/200\n",
      "146/146 [==============================] - 1s 9ms/step - loss: 0.0024 - mean_absolute_error: 0.0335\n",
      "Epoch 3/200\n",
      "146/146 [==============================] - 1s 9ms/step - loss: 0.0017 - mean_absolute_error: 0.0286\n",
      "Epoch 4/200\n",
      "146/146 [==============================] - 2s 10ms/step - loss: 0.0013 - mean_absolute_error: 0.0253\n",
      "Epoch 5/200\n",
      "146/146 [==============================] - 2s 13ms/step - loss: 0.0012 - mean_absolute_error: 0.0239\n",
      "Epoch 6/200\n",
      "146/146 [==============================] - 1s 10ms/step - loss: 9.3549e-04 - mean_absolute_error: 0.0212\n",
      "Epoch 7/200\n",
      "146/146 [==============================] - 1s 9ms/step - loss: 8.5604e-04 - mean_absolute_error: 0.0200\n",
      "Epoch 8/200\n",
      "146/146 [==============================] - 1s 9ms/step - loss: 7.4742e-04 - mean_absolute_error: 0.0189\n",
      "Epoch 9/200\n",
      "146/146 [==============================] - 1s 9ms/step - loss: 6.1197e-04 - mean_absolute_error: 0.0173\n",
      "Epoch 10/200\n",
      "146/146 [==============================] - 1s 9ms/step - loss: 5.9259e-04 - mean_absolute_error: 0.0165\n",
      "Epoch 11/200\n",
      "146/146 [==============================] - 1s 9ms/step - loss: 5.1550e-04 - mean_absolute_error: 0.0155\n",
      "Epoch 12/200\n",
      "146/146 [==============================] - 1s 9ms/step - loss: 5.1990e-04 - mean_absolute_error: 0.0154\n",
      "Epoch 13/200\n",
      "146/146 [==============================] - 2s 12ms/step - loss: 4.4433e-04 - mean_absolute_error: 0.0142\n",
      "Epoch 14/200\n",
      "146/146 [==============================] - 2s 12ms/step - loss: 4.0587e-04 - mean_absolute_error: 0.0136\n",
      "Epoch 15/200\n",
      "146/146 [==============================] - 1s 9ms/step - loss: 4.4889e-04 - mean_absolute_error: 0.0148\n",
      "Epoch 16/200\n",
      "146/146 [==============================] - 1s 9ms/step - loss: 4.2642e-04 - mean_absolute_error: 0.0137\n",
      "Epoch 17/200\n",
      "146/146 [==============================] - 1s 9ms/step - loss: 3.9876e-04 - mean_absolute_error: 0.0134\n",
      "Epoch 18/200\n",
      "146/146 [==============================] - 1s 10ms/step - loss: 5.1363e-04 - mean_absolute_error: 0.0159\n",
      "Epoch 19/200\n",
      "146/146 [==============================] - 1s 9ms/step - loss: 4.3965e-04 - mean_absolute_error: 0.0145\n",
      "Epoch 20/200\n",
      "146/146 [==============================] - 1s 9ms/step - loss: 4.5521e-04 - mean_absolute_error: 0.0149\n",
      "Epoch 21/200\n",
      "146/146 [==============================] - 1s 10ms/step - loss: 4.1734e-04 - mean_absolute_error: 0.0138\n",
      "Epoch 22/200\n",
      "146/146 [==============================] - 2s 12ms/step - loss: 4.4296e-04 - mean_absolute_error: 0.0144\n",
      "Epoch 23/200\n",
      "146/146 [==============================] - 1s 10ms/step - loss: 4.3479e-04 - mean_absolute_error: 0.0141\n",
      "Epoch 24/200\n",
      "146/146 [==============================] - 1s 9ms/step - loss: 4.5337e-04 - mean_absolute_error: 0.0144\n",
      "Epoch 25/200\n",
      "146/146 [==============================] - 1s 9ms/step - loss: 4.1249e-04 - mean_absolute_error: 0.0139\n",
      "Epoch 26/200\n",
      "146/146 [==============================] - 1s 9ms/step - loss: 3.8079e-04 - mean_absolute_error: 0.0132\n",
      "Epoch 27/200\n",
      "146/146 [==============================] - 1s 10ms/step - loss: 4.9712e-04 - mean_absolute_error: 0.0151\n",
      "Epoch 28/200\n",
      "146/146 [==============================] - 1s 9ms/step - loss: 4.1792e-04 - mean_absolute_error: 0.0138\n",
      "Epoch 29/200\n",
      "146/146 [==============================] - 1s 9ms/step - loss: 4.6870e-04 - mean_absolute_error: 0.0151\n",
      "Epoch 30/200\n",
      "146/146 [==============================] - 2s 11ms/step - loss: 3.8854e-04 - mean_absolute_error: 0.0135\n",
      "Epoch 31/200\n",
      "146/146 [==============================] - 2s 12ms/step - loss: 4.1602e-04 - mean_absolute_error: 0.0136\n",
      "Epoch 32/200\n",
      "146/146 [==============================] - 1s 9ms/step - loss: 4.1026e-04 - mean_absolute_error: 0.0140\n",
      "Epoch 33/200\n",
      "146/146 [==============================] - 1s 9ms/step - loss: 3.7427e-04 - mean_absolute_error: 0.0127\n",
      "Epoch 34/200\n",
      "146/146 [==============================] - 1s 10ms/step - loss: 3.6360e-04 - mean_absolute_error: 0.0126\n",
      "Epoch 35/200\n",
      "146/146 [==============================] - 1s 10ms/step - loss: 4.0007e-04 - mean_absolute_error: 0.0135\n",
      "Epoch 36/200\n",
      "146/146 [==============================] - 1s 9ms/step - loss: 3.6498e-04 - mean_absolute_error: 0.0127\n",
      "Epoch 37/200\n",
      "146/146 [==============================] - 1s 9ms/step - loss: 3.6514e-04 - mean_absolute_error: 0.0124\n",
      "Epoch 38/200\n",
      "146/146 [==============================] - 1s 9ms/step - loss: 4.6401e-04 - mean_absolute_error: 0.0150\n",
      "Epoch 39/200\n",
      "146/146 [==============================] - 2s 12ms/step - loss: 4.0502e-04 - mean_absolute_error: 0.0137\n",
      "Epoch 40/200\n",
      "146/146 [==============================] - 2s 11ms/step - loss: 3.5906e-04 - mean_absolute_error: 0.0127\n",
      "Epoch 41/200\n",
      "146/146 [==============================] - 1s 9ms/step - loss: 4.1920e-04 - mean_absolute_error: 0.0138\n",
      "Epoch 42/200\n",
      "146/146 [==============================] - 1s 9ms/step - loss: 3.5938e-04 - mean_absolute_error: 0.0128\n",
      "Epoch 43/200\n",
      "146/146 [==============================] - 1s 9ms/step - loss: 3.7684e-04 - mean_absolute_error: 0.0129\n",
      "Epoch 44/200\n",
      "146/146 [==============================] - 1s 9ms/step - loss: 3.9906e-04 - mean_absolute_error: 0.0136\n",
      "Epoch 45/200\n",
      "146/146 [==============================] - 1s 9ms/step - loss: 3.7113e-04 - mean_absolute_error: 0.0127\n",
      "Epoch 46/200\n",
      "146/146 [==============================] - 1s 9ms/step - loss: 4.2614e-04 - mean_absolute_error: 0.0140\n",
      "Epoch 47/200\n",
      "146/146 [==============================] - 1s 10ms/step - loss: 3.5456e-04 - mean_absolute_error: 0.0126\n",
      "Epoch 48/200\n",
      "146/146 [==============================] - 2s 12ms/step - loss: 3.6782e-04 - mean_absolute_error: 0.0130\n",
      "Epoch 49/200\n",
      "146/146 [==============================] - 1s 9ms/step - loss: 3.4763e-04 - mean_absolute_error: 0.0125\n",
      "Epoch 50/200\n",
      "146/146 [==============================] - 1s 9ms/step - loss: 3.6952e-04 - mean_absolute_error: 0.0127\n",
      "Epoch 51/200\n",
      "146/146 [==============================] - 1s 9ms/step - loss: 4.4440e-04 - mean_absolute_error: 0.0145\n",
      "Epoch 52/200\n",
      "146/146 [==============================] - 1s 9ms/step - loss: 3.4896e-04 - mean_absolute_error: 0.0121\n",
      "Epoch 53/200\n",
      "146/146 [==============================] - 1s 9ms/step - loss: 3.6580e-04 - mean_absolute_error: 0.0129\n",
      "Epoch 54/200\n",
      "146/146 [==============================] - 1s 9ms/step - loss: 4.0871e-04 - mean_absolute_error: 0.0141\n",
      "Epoch 55/200\n",
      "146/146 [==============================] - 1s 9ms/step - loss: 3.4045e-04 - mean_absolute_error: 0.0122\n",
      "Epoch 56/200\n",
      "146/146 [==============================] - 2s 12ms/step - loss: 3.4879e-04 - mean_absolute_error: 0.0122\n",
      "Epoch 57/200\n",
      "146/146 [==============================] - 2s 12ms/step - loss: 4.0124e-04 - mean_absolute_error: 0.0136\n",
      "Epoch 58/200\n",
      "146/146 [==============================] - 1s 9ms/step - loss: 3.4224e-04 - mean_absolute_error: 0.0124\n",
      "Epoch 59/200\n",
      "146/146 [==============================] - 1s 9ms/step - loss: 3.6014e-04 - mean_absolute_error: 0.0128\n",
      "Epoch 60/200\n",
      "146/146 [==============================] - 1s 10ms/step - loss: 3.4003e-04 - mean_absolute_error: 0.0118\n",
      "Epoch 61/200\n",
      "146/146 [==============================] - 1s 9ms/step - loss: 3.5388e-04 - mean_absolute_error: 0.0127\n",
      "Epoch 62/200\n",
      "146/146 [==============================] - 1s 9ms/step - loss: 3.6470e-04 - mean_absolute_error: 0.0126\n",
      "Epoch 63/200\n",
      "146/146 [==============================] - 1s 9ms/step - loss: 3.4461e-04 - mean_absolute_error: 0.0122\n",
      "Epoch 64/200\n",
      "146/146 [==============================] - 1s 9ms/step - loss: 3.3951e-04 - mean_absolute_error: 0.0122\n",
      "Epoch 65/200\n",
      "146/146 [==============================] - 2s 12ms/step - loss: 3.7621e-04 - mean_absolute_error: 0.0128\n",
      "Epoch 66/200\n",
      "146/146 [==============================] - 2s 10ms/step - loss: 3.7607e-04 - mean_absolute_error: 0.0131\n",
      "Epoch 67/200\n",
      "146/146 [==============================] - 1s 9ms/step - loss: 3.3396e-04 - mean_absolute_error: 0.0121\n",
      "Epoch 68/200\n",
      "146/146 [==============================] - 1s 9ms/step - loss: 3.6341e-04 - mean_absolute_error: 0.0129\n",
      "Epoch 69/200\n",
      "146/146 [==============================] - 1s 9ms/step - loss: 3.9463e-04 - mean_absolute_error: 0.0134\n",
      "Epoch 70/200\n",
      "146/146 [==============================] - 1s 9ms/step - loss: 3.6228e-04 - mean_absolute_error: 0.0128\n",
      "Epoch 71/200\n",
      "146/146 [==============================] - 1s 9ms/step - loss: 3.3185e-04 - mean_absolute_error: 0.0122\n",
      "Epoch 72/200\n",
      "146/146 [==============================] - 1s 10ms/step - loss: 3.6676e-04 - mean_absolute_error: 0.0128\n",
      "Epoch 73/200\n",
      "146/146 [==============================] - 1s 10ms/step - loss: 3.2234e-04 - mean_absolute_error: 0.0119\n",
      "Epoch 74/200\n",
      "146/146 [==============================] - 2s 12ms/step - loss: 3.4304e-04 - mean_absolute_error: 0.0123\n",
      "Epoch 75/200\n",
      "146/146 [==============================] - 1s 9ms/step - loss: 3.5242e-04 - mean_absolute_error: 0.0130\n",
      "Epoch 76/200\n",
      "146/146 [==============================] - 1s 10ms/step - loss: 3.6444e-04 - mean_absolute_error: 0.0131\n",
      "Epoch 77/200\n",
      "146/146 [==============================] - 1s 9ms/step - loss: 3.6352e-04 - mean_absolute_error: 0.0129\n",
      "Epoch 78/200\n",
      "146/146 [==============================] - 1s 10ms/step - loss: 3.1859e-04 - mean_absolute_error: 0.0115\n",
      "Epoch 79/200\n",
      "146/146 [==============================] - 1s 9ms/step - loss: 3.3470e-04 - mean_absolute_error: 0.0122\n",
      "Epoch 80/200\n",
      "146/146 [==============================] - 1s 9ms/step - loss: 3.4091e-04 - mean_absolute_error: 0.0119\n",
      "Epoch 81/200\n",
      "146/146 [==============================] - 1s 9ms/step - loss: 3.2675e-04 - mean_absolute_error: 0.0118\n",
      "Epoch 82/200\n",
      "146/146 [==============================] - 2s 12ms/step - loss: 3.4163e-04 - mean_absolute_error: 0.0120\n",
      "Epoch 83/200\n",
      "146/146 [==============================] - 2s 11ms/step - loss: 3.4021e-04 - mean_absolute_error: 0.0124\n",
      "Epoch 84/200\n",
      "146/146 [==============================] - 1s 9ms/step - loss: 3.5407e-04 - mean_absolute_error: 0.0125\n",
      "Epoch 85/200\n",
      "146/146 [==============================] - 1s 9ms/step - loss: 3.6241e-04 - mean_absolute_error: 0.0126\n",
      "Epoch 86/200\n",
      "146/146 [==============================] - 1s 9ms/step - loss: 3.4806e-04 - mean_absolute_error: 0.0126\n",
      "Epoch 87/200\n",
      "146/146 [==============================] - 1s 10ms/step - loss: 3.3266e-04 - mean_absolute_error: 0.0122\n",
      "Epoch 88/200\n",
      "146/146 [==============================] - 1s 9ms/step - loss: 3.4740e-04 - mean_absolute_error: 0.0124\n",
      "Epoch 89/200\n",
      "146/146 [==============================] - 1s 9ms/step - loss: 3.6176e-04 - mean_absolute_error: 0.0129\n",
      "Epoch 90/200\n",
      "146/146 [==============================] - 1s 10ms/step - loss: 3.1178e-04 - mean_absolute_error: 0.0113\n",
      "Epoch 91/200\n",
      "146/146 [==============================] - 2s 12ms/step - loss: 3.2196e-04 - mean_absolute_error: 0.0115\n",
      "Epoch 92/200\n",
      "146/146 [==============================] - 1s 9ms/step - loss: 3.5902e-04 - mean_absolute_error: 0.0129\n",
      "Epoch 93/200\n",
      "146/146 [==============================] - 1s 9ms/step - loss: 3.4594e-04 - mean_absolute_error: 0.0123\n",
      "Epoch 94/200\n",
      "146/146 [==============================] - 1s 10ms/step - loss: 3.5304e-04 - mean_absolute_error: 0.0129\n",
      "Epoch 95/200\n",
      "146/146 [==============================] - 1s 10ms/step - loss: 3.7155e-04 - mean_absolute_error: 0.0132\n",
      "Epoch 96/200\n",
      "146/146 [==============================] - 1s 10ms/step - loss: 3.5015e-04 - mean_absolute_error: 0.0127\n",
      "Epoch 97/200\n",
      "146/146 [==============================] - 1s 10ms/step - loss: 3.4708e-04 - mean_absolute_error: 0.0125\n",
      "Epoch 98/200\n",
      "146/146 [==============================] - 1s 10ms/step - loss: 3.3989e-04 - mean_absolute_error: 0.0125\n",
      "Epoch 99/200\n",
      "146/146 [==============================] - 2s 13ms/step - loss: 3.4295e-04 - mean_absolute_error: 0.0123\n",
      "Epoch 100/200\n",
      "146/146 [==============================] - 2s 15ms/step - loss: 3.1339e-04 - mean_absolute_error: 0.0116\n",
      "Epoch 101/200\n",
      "146/146 [==============================] - 2s 16ms/step - loss: 3.2596e-04 - mean_absolute_error: 0.0120\n",
      "Epoch 102/200\n",
      "146/146 [==============================] - 1s 9ms/step - loss: 3.4489e-04 - mean_absolute_error: 0.0125\n",
      "Epoch 103/200\n",
      "146/146 [==============================] - 2s 10ms/step - loss: 3.2501e-04 - mean_absolute_error: 0.0117\n",
      "Epoch 104/200\n",
      "146/146 [==============================] - 1s 10ms/step - loss: 3.3260e-04 - mean_absolute_error: 0.0121\n",
      "Epoch 105/200\n",
      "146/146 [==============================] - 2s 10ms/step - loss: 3.2525e-04 - mean_absolute_error: 0.0118\n",
      "Epoch 106/200\n",
      "146/146 [==============================] - 2s 12ms/step - loss: 3.2784e-04 - mean_absolute_error: 0.0117\n",
      "Epoch 107/200\n",
      "146/146 [==============================] - 2s 12ms/step - loss: 3.3453e-04 - mean_absolute_error: 0.0123\n",
      "Epoch 108/200\n",
      "146/146 [==============================] - 1s 10ms/step - loss: 3.4286e-04 - mean_absolute_error: 0.0126\n",
      "Epoch 109/200\n",
      "146/146 [==============================] - 1s 10ms/step - loss: 3.1931e-04 - mean_absolute_error: 0.0116\n",
      "Epoch 110/200\n",
      "146/146 [==============================] - 1s 10ms/step - loss: 3.5358e-04 - mean_absolute_error: 0.0130\n",
      "Epoch 111/200\n",
      "146/146 [==============================] - 1s 10ms/step - loss: 3.3571e-04 - mean_absolute_error: 0.0125\n",
      "Epoch 112/200\n",
      "146/146 [==============================] - 1s 10ms/step - loss: 3.2167e-04 - mean_absolute_error: 0.0117\n",
      "Epoch 113/200\n",
      "146/146 [==============================] - 1s 10ms/step - loss: 3.2517e-04 - mean_absolute_error: 0.0119\n",
      "Epoch 114/200\n",
      "146/146 [==============================] - 2s 11ms/step - loss: 3.5806e-04 - mean_absolute_error: 0.0129\n",
      "Epoch 115/200\n",
      "144/146 [============================>.] - ETA: 0s - loss: 3.4312e-04 - mean_absolute_error: 0.0126Restoring model weights from the end of the best epoch: 90.\n",
      "146/146 [==============================] - 2s 15ms/step - loss: 3.4161e-04 - mean_absolute_error: 0.0126\n",
      "Epoch 115: early stopping\n"
     ]
    }
   ],
   "source": [
    "results = rnn.fit(x_train, y_train, epochs = 200, callbacks = callbacks, batch_size = 16)"
   ]
  },
  {
   "cell_type": "code",
   "execution_count": 280,
   "metadata": {
    "colab": {
     "base_uri": "https://localhost:8080/",
     "height": 447
    },
    "id": "AHMbRPmeoshV",
    "outputId": "4773e51a-9ed8-4b97-8c95-d923127d7ab7"
   },
   "outputs": [
    {
     "data": {
      "text/plain": [
       "<Axes: >"
      ]
     },
     "execution_count": 280,
     "metadata": {},
     "output_type": "execute_result"
    },
    {
     "data": {
      "image/png": "[encoded data removed]",
      "text/plain": [
       "<Figure size 640x480 with 1 Axes>"
      ]
     },
     "metadata": {},
     "output_type": "display_data"
    }
   ],
   "source": [
    "train_results = pd.DataFrame(results.history)\n",
    "train_results.loc[:, ['loss']].plot()"
   ]
  },
  {
   "cell_type": "markdown",
   "metadata": {},
   "source": [
    "RNN results do not have validation loss to check out, but from the looks of it, the training converged successfully."
   ]
  },
  {
   "cell_type": "markdown",
   "metadata": {
    "id": "Q2lxm7AbpDCu"
   },
   "source": [
    "#3. Testing the Results"
   ]
  },
  {
   "cell_type": "code",
   "execution_count": 302,
   "metadata": {
    "colab": {
     "base_uri": "https://localhost:8080/"
    },
    "id": "lpMRpR9ApF6Q",
    "outputId": "750facaa-ab63-4540-87fc-3afde0cec091"
   },
   "outputs": [
    {
     "name": "stdout",
     "output_type": "stream",
     "text": [
      "19/19 [==============================] - 0s 7ms/step\n"
     ]
    }
   ],
   "source": [
    "df_val_scaled = df_val.copy()\n",
    "df_val_scaled = pd.DataFrame(sc.fit_transform(df_val_scaled))\n",
    "\n",
    "x_val, y_val = generate_windows(df_val_scaled)\n",
    "y_predicted = rnn.predict(x_val)\n",
    "y_predicted = sc.inverse_transform(y_predicted)"
   ]
  },
  {
   "cell_type": "code",
   "execution_count": 314,
   "metadata": {
    "id": "u_Sg3YaipYUc"
   },
   "outputs": [],
   "source": [
    "df_results = df_val[WINDOW_SIZE:].copy()\n",
    "df_results['Prediction'] = y_predicted\n",
    "df_results['Abs. Diff'] = abs(df_results['Adj Close'] - df_results['Prediction'])"
   ]
  },
  {
   "cell_type": "code",
   "execution_count": 315,
   "metadata": {
    "colab": {
     "base_uri": "https://localhost:8080/",
     "height": 206
    },
    "id": "L4bk93lr-ZqT",
    "outputId": "cc096c9c-8d0f-4afc-8719-a65e622db0ea"
   },
   "outputs": [
    {
     "data": {
      "text/html": [
       "\n",
       "  <div id=\"df-cb9e3979-290f-4254-af5d-ec50d8f5c115\" class=\"colab-df-container\">\n",
       "    <div>\n",
       "<style scoped>\n",
       "    .dataframe tbody tr th:only-of-type {\n",
       "        vertical-align: middle;\n",
       "    }\n",
       "\n",
       "    .dataframe tbody tr th {\n",
       "        vertical-align: top;\n",
       "    }\n",
       "\n",
       "    .dataframe thead th {\n",
       "        text-align: right;\n",
       "    }\n",
       "</style>\n",
       "<table border=\"1\" class=\"dataframe\">\n",
       "  <thead>\n",
       "    <tr style=\"text-align: right;\">\n",
       "      <th></th>\n",
       "      <th>Adj Close</th>\n",
       "      <th>Prediction</th>\n",
       "      <th>Abs. Diff</th>\n",
       "    </tr>\n",
       "  </thead>\n",
       "  <tbody>\n",
       "    <tr>\n",
       "      <th>2364</th>\n",
       "      <td>69.998001</td>\n",
       "      <td>76.246025</td>\n",
       "      <td>6.248024</td>\n",
       "    </tr>\n",
       "    <tr>\n",
       "      <th>2365</th>\n",
       "      <td>71.903999</td>\n",
       "      <td>75.915581</td>\n",
       "      <td>4.011582</td>\n",
       "    </tr>\n",
       "    <tr>\n",
       "      <th>2366</th>\n",
       "      <td>70.444000</td>\n",
       "      <td>77.617126</td>\n",
       "      <td>7.173126</td>\n",
       "    </tr>\n",
       "    <tr>\n",
       "      <th>2367</th>\n",
       "      <td>70.966003</td>\n",
       "      <td>76.373535</td>\n",
       "      <td>5.407532</td>\n",
       "    </tr>\n",
       "    <tr>\n",
       "      <th>2368</th>\n",
       "      <td>66.608002</td>\n",
       "      <td>76.792023</td>\n",
       "      <td>10.184021</td>\n",
       "    </tr>\n",
       "  </tbody>\n",
       "</table>\n",
       "</div>\n",
       "    <div class=\"colab-df-buttons\">\n",
       "\n",
       "  <div class=\"colab-df-container\">\n",
       "    <button class=\"colab-df-convert\" onclick=\"convertToInteractive('df-cb9e3979-290f-4254-af5d-ec50d8f5c115')\"\n",
       "            title=\"Convert this dataframe to an interactive table.\"\n",
       "            style=\"display:none;\">\n",
       "\n",
       "  <svg xmlns=\"http://www.w3.org/2000/svg\" height=\"24px\" viewBox=\"0 -960 960 960\">\n",
       "    <path d=\"M120-120v-720h720v720H120Zm60-500h600v-160H180v160Zm220 220h160v-160H400v160Zm0 220h160v-160H400v160ZM180-400h160v-160H180v160Zm440 0h160v-160H620v160ZM180-180h160v-160H180v160Zm440 0h160v-160H620v160Z\"/>\n",
       "  </svg>\n",
       "    </button>\n",
       "\n",
       "  <style>\n",
       "    .colab-df-container {\n",
       "      display:flex;\n",
       "      gap: 12px;\n",
       "    }\n",
       "\n",
       "    .colab-df-convert {\n",
       "      background-color: #E8F0FE;\n",
       "      border: none;\n",
       "      border-radius: 50%;\n",
       "      cursor: pointer;\n",
       "      display: none;\n",
       "      fill: #1967D2;\n",
       "      height: 32px;\n",
       "      padding: 0 0 0 0;\n",
       "      width: 32px;\n",
       "    }\n",
       "\n",
       "    .colab-df-convert:hover {\n",
       "      background-color: #E2EBFA;\n",
       "      box-shadow: 0px 1px 2px rgba(60, 64, 67, 0.3), 0px 1px 3px 1px rgba(60, 64, 67, 0.15);\n",
       "      fill: #174EA6;\n",
       "    }\n",
       "\n",
       "    .colab-df-buttons div {\n",
       "      margin-bottom: 4px;\n",
       "    }\n",
       "\n",
       "    [theme=dark] .colab-df-convert {\n",
       "      background-color: #3B4455;\n",
       "      fill: #D2E3FC;\n",
       "    }\n",
       "\n",
       "    [theme=dark] .colab-df-convert:hover {\n",
       "      background-color: #434B5C;\n",
       "      box-shadow: 0px 1px 3px 1px rgba(0, 0, 0, 0.15);\n",
       "      filter: drop-shadow(0px 1px 2px rgba(0, 0, 0, 0.3));\n",
       "      fill: #FFFFFF;\n",
       "    }\n",
       "  </style>\n",
       "\n",
       "    <script>\n",
       "      const buttonEl =\n",
       "        document.querySelector('#df-cb9e3979-290f-4254-af5d-ec50d8f5c115 button.colab-df-convert');\n",
       "      buttonEl.style.display =\n",
       "        google.colab.kernel.accessAllowed ? 'block' : 'none';\n",
       "\n",
       "      async function convertToInteractive(key) {\n",
       "        const element = document.querySelector('#df-cb9e3979-290f-4254-af5d-ec50d8f5c115');\n",
       "        const dataTable =\n",
       "          await google.colab.kernel.invokeFunction('convertToInteractive',\n",
       "                                                    [key], {});\n",
       "        if (!dataTable) return;\n",
       "\n",
       "        const docLinkHtml = 'Like what you see? Visit the ' +\n",
       "          '<a target=\"_blank\" href=https://colab.research.google.com/notebooks/data_table.ipynb>data table notebook</a>'\n",
       "          + ' to learn more about interactive tables.';\n",
       "        element.innerHTML = '';\n",
       "        dataTable['output_type'] = 'display_data';\n",
       "        await google.colab.output.renderOutput(dataTable, element);\n",
       "        const docLink = document.createElement('div');\n",
       "        docLink.innerHTML = docLinkHtml;\n",
       "        element.appendChild(docLink);\n",
       "      }\n",
       "    </script>\n",
       "  </div>\n",
       "\n",
       "\n",
       "<div id=\"df-e5b57cd2-dc02-41c5-902f-eae6c3437b95\">\n",
       "  <button class=\"colab-df-quickchart\" onclick=\"quickchart('df-e5b57cd2-dc02-41c5-902f-eae6c3437b95')\"\n",
       "            title=\"Suggest charts.\"\n",
       "            style=\"display:none;\">\n",
       "\n",
       "<svg xmlns=\"http://www.w3.org/2000/svg\" height=\"24px\"viewBox=\"0 0 24 24\"\n",
       "     width=\"24px\">\n",
       "    <g>\n",
       "        <path d=\"M19 3H5c-1.1 0-2 .9-2 2v14c0 1.1.9 2 2 2h14c1.1 0 2-.9 2-2V5c0-1.1-.9-2-2-2zM9 17H7v-7h2v7zm4 0h-2V7h2v10zm4 0h-2v-4h2v4z\"/>\n",
       "    </g>\n",
       "</svg>\n",
       "  </button>\n",
       "\n",
       "<style>\n",
       "  .colab-df-quickchart {\n",
       "      --bg-color: #E8F0FE;\n",
       "      --fill-color: #1967D2;\n",
       "      --hover-bg-color: #E2EBFA;\n",
       "      --hover-fill-color: #174EA6;\n",
       "      --disabled-fill-color: #AAA;\n",
       "      --disabled-bg-color: #DDD;\n",
       "  }\n",
       "\n",
       "  [theme=dark] .colab-df-quickchart {\n",
       "      --bg-color: #3B4455;\n",
       "      --fill-color: #D2E3FC;\n",
       "      --hover-bg-color: #434B5C;\n",
       "      --hover-fill-color: #FFFFFF;\n",
       "      --disabled-bg-color: #3B4455;\n",
       "      --disabled-fill-color: #666;\n",
       "  }\n",
       "\n",
       "  .colab-df-quickchart {\n",
       "    background-color: var(--bg-color);\n",
       "    border: none;\n",
       "    border-radius: 50%;\n",
       "    cursor: pointer;\n",
       "    display: none;\n",
       "    fill: var(--fill-color);\n",
       "    height: 32px;\n",
       "    padding: 0;\n",
       "    width: 32px;\n",
       "  }\n",
       "\n",
       "  .colab-df-quickchart:hover {\n",
       "    background-color: var(--hover-bg-color);\n",
       "    box-shadow: 0 1px 2px rgba(60, 64, 67, 0.3), 0 1px 3px 1px rgba(60, 64, 67, 0.15);\n",
       "    fill: var(--button-hover-fill-color);\n",
       "  }\n",
       "\n",
       "  .colab-df-quickchart-complete:disabled,\n",
       "  .colab-df-quickchart-complete:disabled:hover {\n",
       "    background-color: var(--disabled-bg-color);\n",
       "    fill: var(--disabled-fill-color);\n",
       "    box-shadow: none;\n",
       "  }\n",
       "\n",
       "  .colab-df-spinner {\n",
       "    border: 2px solid var(--fill-color);\n",
       "    border-color: transparent;\n",
       "    border-bottom-color: var(--fill-color);\n",
       "    animation:\n",
       "      spin 1s steps(1) infinite;\n",
       "  }\n",
       "\n",
       "  @keyframes spin {\n",
       "    0% {\n",
       "      border-color: transparent;\n",
       "      border-bottom-color: var(--fill-color);\n",
       "      border-left-color: var(--fill-color);\n",
       "    }\n",
       "    20% {\n",
       "      border-color: transparent;\n",
       "      border-left-color: var(--fill-color);\n",
       "      border-top-color: var(--fill-color);\n",
       "    }\n",
       "    30% {\n",
       "      border-color: transparent;\n",
       "      border-left-color: var(--fill-color);\n",
       "      border-top-color: var(--fill-color);\n",
       "      border-right-color: var(--fill-color);\n",
       "    }\n",
       "    40% {\n",
       "      border-color: transparent;\n",
       "      border-right-color: var(--fill-color);\n",
       "      border-top-color: var(--fill-color);\n",
       "    }\n",
       "    60% {\n",
       "      border-color: transparent;\n",
       "      border-right-color: var(--fill-color);\n",
       "    }\n",
       "    80% {\n",
       "      border-color: transparent;\n",
       "      border-right-color: var(--fill-color);\n",
       "      border-bottom-color: var(--fill-color);\n",
       "    }\n",
       "    90% {\n",
       "      border-color: transparent;\n",
       "      border-bottom-color: var(--fill-color);\n",
       "    }\n",
       "  }\n",
       "</style>\n",
       "\n",
       "  <script>\n",
       "    async function quickchart(key) {\n",
       "      const quickchartButtonEl =\n",
       "        document.querySelector('#' + key + ' button');\n",
       "      quickchartButtonEl.disabled = true;  // To prevent multiple clicks.\n",
       "      quickchartButtonEl.classList.add('colab-df-spinner');\n",
       "      try {\n",
       "        const charts = await google.colab.kernel.invokeFunction(\n",
       "            'suggestCharts', [key], {});\n",
       "      } catch (error) {\n",
       "        console.error('Error during call to suggestCharts:', error);\n",
       "      }\n",
       "      quickchartButtonEl.classList.remove('colab-df-spinner');\n",
       "      quickchartButtonEl.classList.add('colab-df-quickchart-complete');\n",
       "    }\n",
       "    (() => {\n",
       "      let quickchartButtonEl =\n",
       "        document.querySelector('#df-e5b57cd2-dc02-41c5-902f-eae6c3437b95 button');\n",
       "      quickchartButtonEl.style.display =\n",
       "        google.colab.kernel.accessAllowed ? 'block' : 'none';\n",
       "    })();\n",
       "  </script>\n",
       "</div>\n",
       "    </div>\n",
       "  </div>\n"
      ],
      "text/plain": [
       "      Adj Close  Prediction  Abs. Diff\n",
       "2364  69.998001   76.246025   6.248024\n",
       "2365  71.903999   75.915581   4.011582\n",
       "2366  70.444000   77.617126   7.173126\n",
       "2367  70.966003   76.373535   5.407532\n",
       "2368  66.608002   76.792023  10.184021"
      ]
     },
     "execution_count": 315,
     "metadata": {},
     "output_type": "execute_result"
    }
   ],
   "source": [
    "df_results.head()"
   ]
  },
  {
   "cell_type": "code",
   "execution_count": 319,
   "metadata": {
    "colab": {
     "base_uri": "https://localhost:8080/",
     "height": 447
    },
    "id": "TVhjVh1ksuoi",
    "outputId": "593fa3ea-5ab2-4cab-87f6-28eca64a2b65"
   },
   "outputs": [
    {
     "data": {
      "text/plain": [
       "<Axes: >"
      ]
     },
     "execution_count": 319,
     "metadata": {},
     "output_type": "execute_result"
    },
    {
     "data": {
      "image/png": "[encoded data removed]",
      "text/plain": [
       "<Figure size 640x480 with 1 Axes>"
      ]
     },
     "metadata": {},
     "output_type": "display_data"
    }
   ],
   "source": [
    "df_results['Adj Close'].plot(legend = True)\n",
    "df_results['Prediction'].plot(legend = True)\n",
    "df_results['Abs. Diff'].plot(legend = True)"
   ]
  },
  {
   "cell_type": "code",
   "execution_count": 308,
   "metadata": {
    "colab": {
     "base_uri": "https://localhost:8080/"
    },
    "id": "WHsCQBcS9qPd",
    "outputId": "4f2f5d4f-8427-49d1-9518-59304b25d396"
   },
   "outputs": [
    {
     "data": {
      "text/plain": [
       "0.9938797640109667"
      ]
     },
     "execution_count": 308,
     "metadata": {},
     "output_type": "execute_result"
    }
   ],
   "source": [
    "#Very good results\n",
    "from sklearn.metrics import r2_score\n",
    "r2_score(df_results['Adj Close'], y_predicted)"
   ]
  },
  {
   "cell_type": "markdown",
   "metadata": {},
   "source": [
    "The final metric is 0.99 R^2, which means that the model correctly explains 99% of the variability of the data, very good results."
   ]
  },
  {
   "cell_type": "markdown",
   "metadata": {
    "id": "4Iol34nD_Y3l"
   },
   "source": [
    "So, actually, there is about 30 different changes I did before this final model. I looked on other people's codes a bit so I can learn what a good RNN should be.\n",
    "\n",
    "So there are a few things I learnt:\n",
    "1. Dropout on RNN is probably not a good idea, I got stuck at 500+ loss because of it.\n",
    "2. Batch Normalization Layer _is NOT_ MinMaxScaling Preprocessing, MinMaxScaling is way better.\n",
    "3. Windowing the data is a good augmentation technique.\n",
    "\n",
    "The Final Result is alright, with an R2 of 0.99 it's close to perfect."
   ]
  }
 ],
 "metadata": {
  "accelerator": "GPU",
  "colab": {
   "gpuType": "T4",
   "provenance": []
  },
  "kernelspec": {
   "display_name": "Python 3 (ipykernel)",
   "language": "python",
   "name": "python3"
  },
  "language_info": {
   "codemirror_mode": {
    "name": "ipython",
    "version": 3
   },
   "file_extension": ".py",
   "mimetype": "text/x-python",
   "name": "python",
   "nbconvert_exporter": "python",
   "pygments_lexer": "ipython3",
   "version": "3.11.5"
  }
 },
 "nbformat": 4,
 "nbformat_minor": 1
}
